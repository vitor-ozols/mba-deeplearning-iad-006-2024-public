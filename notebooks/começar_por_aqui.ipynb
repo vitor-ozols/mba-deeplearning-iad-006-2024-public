{
 "cells": [
  {
   "cell_type": "markdown",
   "metadata": {},
   "source": [
    "Aqui está um código simples com sklearn para testar a execução de Python no Codespace com uma Decision Tree:"
   ]
  },
  {
   "cell_type": "code",
   "execution_count": 2,
   "metadata": {},
   "outputs": [
    {
     "name": "stdout",
     "output_type": "stream",
     "text": [
      "Precisão: 1.0\n"
     ]
    }
   ],
   "source": [
    "import numpy as np\n",
    "from sklearn.tree import DecisionTreeClassifier\n",
    "from sklearn.datasets import load_iris\n",
    "from sklearn.model_selection import train_test_split\n",
    "\n",
    "# Carregar o dataset Iris\n",
    "iris = load_iris()\n",
    "X = iris.data\n",
    "y = iris.target\n",
    "\n",
    "# Dividir o dataset em treinamento e teste\n",
    "X_train, X_test, y_train, y_test = train_test_split(X, y, test_size=0.2, random_state=42)\n",
    "\n",
    "# Criar uma Decision Tree\n",
    "clf = DecisionTreeClassifier(random_state=42)\n",
    "\n",
    "# Treinar a Decision Tree\n",
    "clf.fit(X_train, y_train)\n",
    "\n",
    "# Prever as classes para o conjunto de teste\n",
    "y_pred = clf.predict(X_test)\n",
    "\n",
    "# Imprimir a precisão da Decision Tree\n",
    "print(\"Precisão:\", clf.score(X_test, y_test))"
   ]
  },
  {
   "cell_type": "markdown",
   "metadata": {},
   "source": [
    "###Exercício 1 - Treinamento do modelo baseado em árvore de decisão\n",
    "Neste exercício, você irá treinar um modelo de árvore de decisão utilizando o conjunto de dados MNIST. O objetivo é entender como funciona o processo de treinamento de um modelo de árvore de decisão e como ajustar os parâmetros para melhorar o desempenho do modelo.\n",
    "\n",
    "Você irá:\n",
    "\n",
    "- Carregar o conjunto de dados MNIST e pré-processar os dados, se necessário.\n",
    "- Selecionar a biblioteca ou framework que você irá utilizar (por exemplo, Scikit-learn e/ou XGBoost).\n",
    "- Configurar os parâmetros do modelo, como a profundidade da árvore, o número de características a considerar em cada nó, etc.\n",
    "- Treinar o modelo utilizando o conjunto de dados de treinamento.\n",
    "\n",
    "###Dicas:\n",
    "\n",
    "Certifique-se de que os dados estejam pré-processados corretamente antes de treinar o modelo.\n",
    "Ajuste os parâmetros do modelo, como a profundidade da árvore, para melhorar o desempenho do modelo."
   ]
  },
  {
   "cell_type": "markdown",
   "metadata": {},
   "source": [
    "###Passo 1: Carregar e Pré-processar o Conjunto de Dados MNIST\n",
    "O conjunto de dados MNIST pode ser carregado diretamente do Scikit-learn. Ele contém 70.000 imagens de dígitos, cada uma de tamanho 28x28 pixels."
   ]
  },
  {
   "cell_type": "code",
   "execution_count": 8,
   "metadata": {},
   "outputs": [],
   "source": [
    "import numpy as np\n",
    "from sklearn.datasets import fetch_openml\n",
    "from sklearn.model_selection import train_test_split\n",
    "from sklearn.preprocessing import StandardScaler\n",
    "\n",
    "# Carregar o conjunto de dados MNIST\n",
    "mnist = fetch_openml('mnist_784', version=1)\n",
    "\n",
    "# Extrair dados e rótulos\n",
    "X, y = mnist.data, mnist.target.astype(int)\n",
    "\n",
    "# Normalizar os dados\n",
    "scaler = StandardScaler()\n",
    "X_scaled = scaler.fit_transform(X)\n",
    "\n",
    "# Dividir o conjunto de dados em treinamento e teste\n",
    "X_train, X_test, y_train, y_test = train_test_split(X_scaled, y, test_size=0.2, random_state=42)\n"
   ]
  },
  {
   "cell_type": "markdown",
   "metadata": {},
   "source": [
    "###Passo 2: Configurar e Treinar o Modelo de Árvore de Decisão\n",
    "Agora vamos configurar o modelo de árvore de decisão. É importante ajustar parâmetros como a profundidade máxima da árvore para evitar overfitting e melhorar o desempenho."
   ]
  },
  {
   "cell_type": "code",
   "execution_count": 10,
   "metadata": {},
   "outputs": [
    {
     "name": "stdout",
     "output_type": "stream",
     "text": [
      "Precisão no conjunto de teste: 0.8583571428571428\n"
     ]
    }
   ],
   "source": [
    "from sklearn.tree import DecisionTreeClassifier\n",
    "\n",
    "# Criar uma Decision Tree com profundidade máxima de 10\n",
    "clf = DecisionTreeClassifier(max_depth=10, random_state=42)\n",
    "\n",
    "# Treinar a Decision Tree\n",
    "clf.fit(X_train, y_train)\n",
    "\n",
    "# Avaliar o modelo no conjunto de teste\n",
    "accuracy = clf.score(X_test, y_test)\n",
    "print(\"Precisão no conjunto de teste:\", accuracy)"
   ]
  },
  {
   "cell_type": "markdown",
   "metadata": {},
   "source": [
    "###Passo 3: Ajustar os Parâmetros do Modelo\n",
    "Ajustar parâmetros como max_depth, min_samples_split, e min_samples_leaf pode melhorar o desempenho do modelo. Aqui está como você pode fazer isso:"
   ]
  },
  {
   "cell_type": "code",
   "execution_count": 11,
   "metadata": {},
   "outputs": [
    {
     "name": "stdout",
     "output_type": "stream",
     "text": [
      "Precisão no conjunto de teste após otimização: 0.8702857142857143\n"
     ]
    }
   ],
   "source": [
    "# Criar uma Decision Tree com parâmetros ajustados\n",
    "clf_optimized = DecisionTreeClassifier(max_depth=15, min_samples_split=20, min_samples_leaf=10, random_state=42)\n",
    "\n",
    "# Treinar o modelo otimizado\n",
    "clf_optimized.fit(X_train, y_train)\n",
    "\n",
    "# Avaliar o modelo otimizado no conjunto de teste\n",
    "accuracy_optimized = clf_optimized.score(X_test, y_test)\n",
    "print(\"Precisão no conjunto de teste após otimização:\", accuracy_optimized)"
   ]
  }
 ],
 "metadata": {
  "kernelspec": {
   "display_name": "Python 3",
   "language": "python",
   "name": "python3"
  },
  "language_info": {
   "codemirror_mode": {
    "name": "ipython",
    "version": 3
   },
   "file_extension": ".py",
   "mimetype": "text/x-python",
   "name": "python",
   "nbconvert_exporter": "python",
   "pygments_lexer": "ipython3",
   "version": "3.10.13"
  }
 },
 "nbformat": 4,
 "nbformat_minor": 2
}
