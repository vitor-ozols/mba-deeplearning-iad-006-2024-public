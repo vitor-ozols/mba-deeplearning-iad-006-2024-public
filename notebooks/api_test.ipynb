{
 "cells": [
  {
   "cell_type": "markdown",
   "metadata": {},
   "source": []
  },
  {
   "cell_type": "code",
   "execution_count": 1,
   "metadata": {},
   "outputs": [
    {
     "name": "stdout",
     "output_type": "stream",
     "text": [
      "Previsão: 0\n"
     ]
    }
   ],
   "source": [
    "import requests\n",
    "import json\n",
    "from PIL import Image\n",
    "import numpy as np\n",
    "\n",
    "# abre imagem e converte pra cinza\n",
    "image = Image.open('/workspaces/mba-deeplearning-iad-006-2024-public/imagens/imagem_positiva.png').convert('L')\n",
    "\n",
    "# transrma em array\n",
    "image_array = np.array(image)\n",
    "\n",
    "# achata e transforma em lista\n",
    "flat_image = image_array.flatten().tolist()\n",
    "\n",
    "# endpoint no localhost\n",
    "url = 'http://localhost:8000/predict'\n",
    "\n",
    "# payload\n",
    "data = {\"data\": flat_image}\n",
    "\n",
    "# post\n",
    "response = requests.post(url, json=data)\n",
    "\n",
    "# reposta\n",
    "if response.status_code == 200:\n",
    "    prediction = response.json().get('prediction')\n",
    "    print(f'Previsão: {prediction}')\n",
    "else:\n",
    "    print(f'Erro: {response.status_code}')\n",
    "    print(f'Detalhes do erro: {response.json()}')\n"
   ]
  },
  {
   "cell_type": "code",
   "execution_count": 36,
   "metadata": {},
   "outputs": [
    {
     "name": "stdout",
     "output_type": "stream",
     "text": [
      "CONTAINER ID   IMAGE      COMMAND                  CREATED          STATUS          PORTS      NAMES\n",
      "b024e0910e37   flaskapp   \"flask run --host=0.…\"   17 seconds ago   Up 16 seconds   8000/tcp   competent_jennings\n"
     ]
    }
   ],
   "source": [
    "!docker ps"
   ]
  }
 ],
 "metadata": {
  "kernelspec": {
   "display_name": "Python 3",
   "language": "python",
   "name": "python3"
  },
  "language_info": {
   "codemirror_mode": {
    "name": "ipython",
    "version": 3
   },
   "file_extension": ".py",
   "mimetype": "text/x-python",
   "name": "python",
   "nbconvert_exporter": "python",
   "pygments_lexer": "ipython3",
   "version": "3.12.1"
  }
 },
 "nbformat": 4,
 "nbformat_minor": 2
}
