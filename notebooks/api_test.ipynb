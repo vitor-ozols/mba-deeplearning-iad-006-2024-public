{
 "cells": [
  {
   "cell_type": "markdown",
   "metadata": {},
   "source": []
  },
  {
   "cell_type": "code",
   "execution_count": 40,
   "metadata": {},
   "outputs": [
    {
     "name": "stdout",
     "output_type": "stream",
     "text": [
      "Previsão: 0\n"
     ]
    }
   ],
   "source": [
    "import requests\n",
    "import json\n",
    "\n",
    "# URL da API (ajuste se necessário)\n",
    "url = 'http://localhost:8000/predict'\n",
    "\n",
    "# Exemplo de dados com exatamente 64 valores\n",
    "data = {\n",
    "    \"data\": [0, 0, 5, 13, 9, 1, 0, 0, 0, 0, 13, 15, 10, 15, 5, 0, 0, 3, 15, 2, 0, 11, 8, 0, 0, 4, 12, 0, 0, 8, 8, 0, 0, 5, 8, 0, 0, 9, 8, 0, 0, 4, 11, 0, 1, 12, 7, 0, 0, 2, 14, 5, 10, 12, 0, 0, 0, 0, 6, 13, 10, 0, 0, 0]\n",
    "}\n",
    "\n",
    "# Enviar a solicitação POST para a API\n",
    "response = requests.post(url, json=data)\n",
    "\n",
    "# Verificar a resposta\n",
    "if response.status_code == 200:\n",
    "    prediction = response.json().get('prediction')\n",
    "    print(f'Previsão: {prediction}')\n",
    "else:\n",
    "    print(f'Erro: {response.status_code}')\n",
    "    print(f'Detalhes do erro: {response.json()}')\n"
   ]
  },
  {
   "cell_type": "code",
   "execution_count": 36,
   "metadata": {},
   "outputs": [
    {
     "name": "stdout",
     "output_type": "stream",
     "text": [
      "CONTAINER ID   IMAGE      COMMAND                  CREATED          STATUS          PORTS      NAMES\n",
      "b024e0910e37   flaskapp   \"flask run --host=0.…\"   17 seconds ago   Up 16 seconds   8000/tcp   competent_jennings\n"
     ]
    }
   ],
   "source": [
    "!docker ps"
   ]
  }
 ],
 "metadata": {
  "kernelspec": {
   "display_name": "Python 3",
   "language": "python",
   "name": "python3"
  },
  "language_info": {
   "codemirror_mode": {
    "name": "ipython",
    "version": 3
   },
   "file_extension": ".py",
   "mimetype": "text/x-python",
   "name": "python",
   "nbconvert_exporter": "python",
   "pygments_lexer": "ipython3",
   "version": "3.12.1"
  }
 },
 "nbformat": 4,
 "nbformat_minor": 2
}
